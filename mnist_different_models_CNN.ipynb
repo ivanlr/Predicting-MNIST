{
 "cells": [
  {
   "cell_type": "code",
   "execution_count": 1,
   "metadata": {},
   "outputs": [],
   "source": [
    "import numpy as np\n",
    "import matplotlib.pyplot as plt\n",
    "plt.style.use('seaborn-whitegrid')\n",
    "# Set Matplotlib defaults\n",
    "plt.rc('figure', autolayout=True)\n",
    "plt.rc('axes', labelweight='bold', labelsize='large',\n",
    "       titleweight='bold', titlesize=18, titlepad=10)\n",
    "plt.rc('animation', html='html5')\n",
    "import tensorflow as tf\n",
    "from tensorflow import keras\n",
    "from tensorflow.keras import layers, callbacks\n",
    "from tensorflow.keras.utils import to_categorical\n",
    "import pandas as pd"
   ]
  },
  {
   "cell_type": "code",
   "execution_count": 2,
   "metadata": {},
   "outputs": [],
   "source": [
    "X = pd.read_csv('train/train.csv')"
   ]
  },
  {
   "cell_type": "code",
   "execution_count": 3,
   "metadata": {},
   "outputs": [],
   "source": [
    "X_train = X.sample(frac=0.7, random_state=0)\n",
    "X_val = X.drop(X_train.index)\n",
    "\n",
    "y_train = X_train.pop('label')\n",
    "y_val = X_val.pop('label')"
   ]
  },
  {
   "cell_type": "code",
   "execution_count": 4,
   "metadata": {},
   "outputs": [],
   "source": [
    "X_train = np.asarray(X_train)\n",
    "X_train = X_train.reshape(29400, 28, 28, 1)\n",
    "\n",
    "X_val = np.asarray(X_val)\n",
    "X_val = X_val.reshape(12600,28,28, 1)\n",
    "\n",
    "y_train = np.asarray(y_train)\n",
    "y_train = to_categorical(y_train, num_classes=10, dtype='int')\n",
    "\n",
    "y_val = np.asarray(y_val)\n",
    "y_val = to_categorical(y_val, num_classes=10, dtype='int')"
   ]
  },
  {
   "cell_type": "code",
   "execution_count": 5,
   "metadata": {},
   "outputs": [],
   "source": [
    "X_train = X_train / 255.0\n",
    "X_val = X_val / 255.0"
   ]
  },
  {
   "cell_type": "code",
   "execution_count": 6,
   "metadata": {},
   "outputs": [
    {
     "data": {
      "text/plain": [
       "(29400, 28, 28, 1)"
      ]
     },
     "execution_count": 6,
     "metadata": {},
     "output_type": "execute_result"
    }
   ],
   "source": [
    "X_train.shape"
   ]
  },
  {
   "cell_type": "code",
   "execution_count": 41,
   "metadata": {},
   "outputs": [],
   "source": [
    "early_stopping = callbacks.EarlyStopping(\n",
    "    min_delta=0.0001,\n",
    "    patience=20,\n",
    "    restore_best_weights=True,)"
   ]
  },
  {
   "cell_type": "code",
   "execution_count": 8,
   "metadata": {},
   "outputs": [],
   "source": [
    "model = keras.Sequential([\n",
    "    layers.Conv2D(64, kernel_size=3, activation='relu', input_shape=[*X_train.shape[1:]]),\n",
    "    layers.Conv2D(32, kernel_size=3, activation='relu'),\n",
    "    layers.Flatten(),\n",
    "    layers.Dense(10, activation='softmax'),\n",
    "])\n",
    "#6 iter\n",
    "#0.9820 accuracy\n",
    "#patience = 5"
   ]
  },
  {
   "cell_type": "code",
   "execution_count": 9,
   "metadata": {},
   "outputs": [],
   "source": [
    "model = keras.Sequential([\n",
    "    layers.Conv2D(64, kernel_size=3, activation='relu', input_shape=[*X_train.shape[1:]]),\n",
    "    layers.MaxPool2D(pool_size=(2,2)),\n",
    "    layers.Conv2D(32, kernel_size=3, activation='relu'),\n",
    "    layers.MaxPool2D(pool_size=(2,2)),\n",
    "    layers.Flatten(),\n",
    "    layers.Dense(10, activation='softmax'),\n",
    "])\n",
    "#11 iter\n",
    "#0.9860 accuracy\n",
    "#patience = 5"
   ]
  },
  {
   "cell_type": "code",
   "execution_count": 39,
   "metadata": {},
   "outputs": [],
   "source": [
    "model = keras.Sequential([\n",
    "    layers.Conv2D(32, kernel_size=3, activation='relu', input_shape=[*X_train.shape[1:]]),\n",
    "    layers.MaxPool2D(pool_size=(2,2)),\n",
    "    layers.Conv2D(64, kernel_size=3, activation='relu'),\n",
    "    layers.MaxPool2D(pool_size=(2,2)),\n",
    "    layers.Flatten(),\n",
    "    layers.BatchNormalization(),\n",
    "    layers.Dense(128, activation='relu'),\n",
    "    layers.BatchNormalization(),\n",
    "    layers.Dense(10, activation='softmax'),\n",
    "])\n",
    "#11 iter\n",
    "#0.9891 accuracy\n",
    "#patience = 4"
   ]
  },
  {
   "cell_type": "code",
   "execution_count": 40,
   "metadata": {},
   "outputs": [],
   "source": [
    "model.compile(\n",
    "    loss='categorical_crossentropy',\n",
    "    optimizer='adam',\n",
    "    metrics=['accuracy'],)"
   ]
  },
  {
   "cell_type": "code",
   "execution_count": 26,
   "metadata": {},
   "outputs": [
    {
     "data": {
      "text/plain": [
       "(12600, 28, 28, 1)"
      ]
     },
     "execution_count": 26,
     "metadata": {},
     "output_type": "execute_result"
    }
   ],
   "source": [
    "X_val.shape"
   ]
  },
  {
   "cell_type": "code",
   "execution_count": 27,
   "metadata": {},
   "outputs": [
    {
     "data": {
      "text/plain": [
       "(12600, 10)"
      ]
     },
     "execution_count": 27,
     "metadata": {},
     "output_type": "execute_result"
    }
   ],
   "source": [
    "y_val.shape"
   ]
  },
  {
   "cell_type": "code",
   "execution_count": 42,
   "metadata": {},
   "outputs": [
    {
     "name": "stdout",
     "output_type": "stream",
     "text": [
      "Epoch 1/50\n",
      "919/919 [==============================] - 22s 23ms/step - loss: 0.2402 - accuracy: 0.9248 - val_loss: 0.0598 - val_accuracy: 0.9815\n",
      "Epoch 2/50\n",
      "919/919 [==============================] - 20s 22ms/step - loss: 0.0448 - accuracy: 0.9867 - val_loss: 0.0695 - val_accuracy: 0.9791\n",
      "Epoch 3/50\n",
      "919/919 [==============================] - 21s 23ms/step - loss: 0.0299 - accuracy: 0.9905 - val_loss: 0.0541 - val_accuracy: 0.9839\n",
      "Epoch 4/50\n",
      "919/919 [==============================] - 20s 22ms/step - loss: 0.0252 - accuracy: 0.9919 - val_loss: 0.0537 - val_accuracy: 0.9850\n",
      "Epoch 5/50\n",
      "919/919 [==============================] - 21s 22ms/step - loss: 0.0212 - accuracy: 0.9928 - val_loss: 0.0685 - val_accuracy: 0.9803\n",
      "Epoch 6/50\n",
      "919/919 [==============================] - 20s 22ms/step - loss: 0.0165 - accuracy: 0.9944 - val_loss: 0.0484 - val_accuracy: 0.9884\n",
      "Epoch 7/50\n",
      "919/919 [==============================] - 21s 23ms/step - loss: 0.0128 - accuracy: 0.9958 - val_loss: 0.0529 - val_accuracy: 0.9857\n",
      "Epoch 8/50\n",
      "919/919 [==============================] - 21s 23ms/step - loss: 0.0152 - accuracy: 0.9950 - val_loss: 0.0497 - val_accuracy: 0.9871\n",
      "Epoch 9/50\n",
      "919/919 [==============================] - 21s 23ms/step - loss: 0.0080 - accuracy: 0.9970 - val_loss: 0.0549 - val_accuracy: 0.9846\n",
      "Epoch 10/50\n",
      "919/919 [==============================] - 21s 23ms/step - loss: 0.0105 - accuracy: 0.9961 - val_loss: 0.0545 - val_accuracy: 0.9869\n",
      "Epoch 11/50\n",
      "919/919 [==============================] - 21s 22ms/step - loss: 0.0097 - accuracy: 0.9967 - val_loss: 0.0734 - val_accuracy: 0.9837\n",
      "Epoch 12/50\n",
      "919/919 [==============================] - 21s 23ms/step - loss: 0.0070 - accuracy: 0.9978 - val_loss: 0.0638 - val_accuracy: 0.9846\n",
      "Epoch 13/50\n",
      "919/919 [==============================] - 21s 23ms/step - loss: 0.0088 - accuracy: 0.9970 - val_loss: 0.0525 - val_accuracy: 0.9877\n",
      "Epoch 14/50\n",
      "919/919 [==============================] - 21s 23ms/step - loss: 0.0082 - accuracy: 0.9969 - val_loss: 0.0523 - val_accuracy: 0.9877\n",
      "Epoch 15/50\n",
      "919/919 [==============================] - 21s 22ms/step - loss: 0.0058 - accuracy: 0.9979 - val_loss: 0.0618 - val_accuracy: 0.9849\n",
      "Epoch 16/50\n",
      "919/919 [==============================] - 21s 23ms/step - loss: 0.0069 - accuracy: 0.9979 - val_loss: 0.0530 - val_accuracy: 0.9883\n",
      "Epoch 17/50\n",
      "919/919 [==============================] - 23s 25ms/step - loss: 0.0057 - accuracy: 0.9981 - val_loss: 0.0768 - val_accuracy: 0.9840\n",
      "Epoch 18/50\n",
      "919/919 [==============================] - 22s 24ms/step - loss: 0.0062 - accuracy: 0.9981 - val_loss: 0.0743 - val_accuracy: 0.9846\n",
      "Epoch 19/50\n",
      "919/919 [==============================] - 22s 24ms/step - loss: 0.0041 - accuracy: 0.9987 - val_loss: 0.0584 - val_accuracy: 0.9884\n",
      "Epoch 20/50\n",
      "919/919 [==============================] - 21s 23ms/step - loss: 0.0036 - accuracy: 0.9987 - val_loss: 0.0655 - val_accuracy: 0.9873\n",
      "Epoch 21/50\n",
      "919/919 [==============================] - 22s 23ms/step - loss: 0.0057 - accuracy: 0.9977 - val_loss: 0.0585 - val_accuracy: 0.9889\n",
      "Epoch 22/50\n",
      "919/919 [==============================] - 22s 24ms/step - loss: 0.0050 - accuracy: 0.9981 - val_loss: 0.0596 - val_accuracy: 0.9875\n",
      "Epoch 23/50\n",
      "919/919 [==============================] - 22s 23ms/step - loss: 0.0036 - accuracy: 0.9985 - val_loss: 0.0635 - val_accuracy: 0.9874\n",
      "Epoch 24/50\n",
      "919/919 [==============================] - 22s 23ms/step - loss: 0.0036 - accuracy: 0.9986 - val_loss: 0.0557 - val_accuracy: 0.9886\n",
      "Epoch 25/50\n",
      "919/919 [==============================] - 22s 23ms/step - loss: 0.0078 - accuracy: 0.9975 - val_loss: 0.0558 - val_accuracy: 0.9893\n",
      "Epoch 26/50\n",
      "919/919 [==============================] - 21s 23ms/step - loss: 0.0024 - accuracy: 0.9992 - val_loss: 0.0586 - val_accuracy: 0.9887\n"
     ]
    }
   ],
   "source": [
    "history = model.fit(\n",
    "    X_train, y_train,\n",
    "    validation_data=(X_val, y_val),\n",
    "    callbacks=[early_stopping],\n",
    "    epochs=50,\n",
    "    )"
   ]
  },
  {
   "cell_type": "code",
   "execution_count": 43,
   "metadata": {},
   "outputs": [
    {
     "data": {
      "text/html": [
       "<div>\n",
       "<style scoped>\n",
       "    .dataframe tbody tr th:only-of-type {\n",
       "        vertical-align: middle;\n",
       "    }\n",
       "\n",
       "    .dataframe tbody tr th {\n",
       "        vertical-align: top;\n",
       "    }\n",
       "\n",
       "    .dataframe thead th {\n",
       "        text-align: right;\n",
       "    }\n",
       "</style>\n",
       "<table border=\"1\" class=\"dataframe\">\n",
       "  <thead>\n",
       "    <tr style=\"text-align: right;\">\n",
       "      <th></th>\n",
       "      <th>loss</th>\n",
       "      <th>accuracy</th>\n",
       "      <th>val_loss</th>\n",
       "      <th>val_accuracy</th>\n",
       "    </tr>\n",
       "  </thead>\n",
       "  <tbody>\n",
       "    <tr>\n",
       "      <th>0</th>\n",
       "      <td>0.125165</td>\n",
       "      <td>0.961429</td>\n",
       "      <td>0.059786</td>\n",
       "      <td>0.981508</td>\n",
       "    </tr>\n",
       "    <tr>\n",
       "      <th>1</th>\n",
       "      <td>0.047943</td>\n",
       "      <td>0.985306</td>\n",
       "      <td>0.069492</td>\n",
       "      <td>0.979127</td>\n",
       "    </tr>\n",
       "    <tr>\n",
       "      <th>2</th>\n",
       "      <td>0.032479</td>\n",
       "      <td>0.989320</td>\n",
       "      <td>0.054074</td>\n",
       "      <td>0.983889</td>\n",
       "    </tr>\n",
       "    <tr>\n",
       "      <th>3</th>\n",
       "      <td>0.025905</td>\n",
       "      <td>0.991054</td>\n",
       "      <td>0.053669</td>\n",
       "      <td>0.985000</td>\n",
       "    </tr>\n",
       "    <tr>\n",
       "      <th>4</th>\n",
       "      <td>0.019676</td>\n",
       "      <td>0.993639</td>\n",
       "      <td>0.068478</td>\n",
       "      <td>0.980317</td>\n",
       "    </tr>\n",
       "    <tr>\n",
       "      <th>5</th>\n",
       "      <td>0.018518</td>\n",
       "      <td>0.993775</td>\n",
       "      <td>0.048353</td>\n",
       "      <td>0.988413</td>\n",
       "    </tr>\n",
       "    <tr>\n",
       "      <th>6</th>\n",
       "      <td>0.014501</td>\n",
       "      <td>0.995136</td>\n",
       "      <td>0.052945</td>\n",
       "      <td>0.985714</td>\n",
       "    </tr>\n",
       "    <tr>\n",
       "      <th>7</th>\n",
       "      <td>0.014652</td>\n",
       "      <td>0.995238</td>\n",
       "      <td>0.049735</td>\n",
       "      <td>0.987143</td>\n",
       "    </tr>\n",
       "    <tr>\n",
       "      <th>8</th>\n",
       "      <td>0.010239</td>\n",
       "      <td>0.996293</td>\n",
       "      <td>0.054940</td>\n",
       "      <td>0.984603</td>\n",
       "    </tr>\n",
       "    <tr>\n",
       "      <th>9</th>\n",
       "      <td>0.011173</td>\n",
       "      <td>0.996088</td>\n",
       "      <td>0.054483</td>\n",
       "      <td>0.986905</td>\n",
       "    </tr>\n",
       "    <tr>\n",
       "      <th>10</th>\n",
       "      <td>0.007645</td>\n",
       "      <td>0.997347</td>\n",
       "      <td>0.073422</td>\n",
       "      <td>0.983651</td>\n",
       "    </tr>\n",
       "    <tr>\n",
       "      <th>11</th>\n",
       "      <td>0.009058</td>\n",
       "      <td>0.996939</td>\n",
       "      <td>0.063785</td>\n",
       "      <td>0.984603</td>\n",
       "    </tr>\n",
       "    <tr>\n",
       "      <th>12</th>\n",
       "      <td>0.008032</td>\n",
       "      <td>0.997211</td>\n",
       "      <td>0.052539</td>\n",
       "      <td>0.987698</td>\n",
       "    </tr>\n",
       "    <tr>\n",
       "      <th>13</th>\n",
       "      <td>0.007705</td>\n",
       "      <td>0.997143</td>\n",
       "      <td>0.052270</td>\n",
       "      <td>0.987698</td>\n",
       "    </tr>\n",
       "    <tr>\n",
       "      <th>14</th>\n",
       "      <td>0.006404</td>\n",
       "      <td>0.997891</td>\n",
       "      <td>0.061767</td>\n",
       "      <td>0.984921</td>\n",
       "    </tr>\n",
       "    <tr>\n",
       "      <th>15</th>\n",
       "      <td>0.006578</td>\n",
       "      <td>0.997483</td>\n",
       "      <td>0.053044</td>\n",
       "      <td>0.988254</td>\n",
       "    </tr>\n",
       "    <tr>\n",
       "      <th>16</th>\n",
       "      <td>0.007151</td>\n",
       "      <td>0.997755</td>\n",
       "      <td>0.076842</td>\n",
       "      <td>0.984048</td>\n",
       "    </tr>\n",
       "    <tr>\n",
       "      <th>17</th>\n",
       "      <td>0.006178</td>\n",
       "      <td>0.998129</td>\n",
       "      <td>0.074278</td>\n",
       "      <td>0.984603</td>\n",
       "    </tr>\n",
       "    <tr>\n",
       "      <th>18</th>\n",
       "      <td>0.004362</td>\n",
       "      <td>0.998571</td>\n",
       "      <td>0.058356</td>\n",
       "      <td>0.988413</td>\n",
       "    </tr>\n",
       "    <tr>\n",
       "      <th>19</th>\n",
       "      <td>0.005274</td>\n",
       "      <td>0.998231</td>\n",
       "      <td>0.065472</td>\n",
       "      <td>0.987302</td>\n",
       "    </tr>\n",
       "    <tr>\n",
       "      <th>20</th>\n",
       "      <td>0.005623</td>\n",
       "      <td>0.997959</td>\n",
       "      <td>0.058530</td>\n",
       "      <td>0.988889</td>\n",
       "    </tr>\n",
       "    <tr>\n",
       "      <th>21</th>\n",
       "      <td>0.005809</td>\n",
       "      <td>0.997823</td>\n",
       "      <td>0.059596</td>\n",
       "      <td>0.987540</td>\n",
       "    </tr>\n",
       "    <tr>\n",
       "      <th>22</th>\n",
       "      <td>0.003319</td>\n",
       "      <td>0.998844</td>\n",
       "      <td>0.063544</td>\n",
       "      <td>0.987381</td>\n",
       "    </tr>\n",
       "    <tr>\n",
       "      <th>23</th>\n",
       "      <td>0.004543</td>\n",
       "      <td>0.998231</td>\n",
       "      <td>0.055659</td>\n",
       "      <td>0.988571</td>\n",
       "    </tr>\n",
       "    <tr>\n",
       "      <th>24</th>\n",
       "      <td>0.005394</td>\n",
       "      <td>0.998197</td>\n",
       "      <td>0.055826</td>\n",
       "      <td>0.989286</td>\n",
       "    </tr>\n",
       "    <tr>\n",
       "      <th>25</th>\n",
       "      <td>0.002802</td>\n",
       "      <td>0.999116</td>\n",
       "      <td>0.058565</td>\n",
       "      <td>0.988651</td>\n",
       "    </tr>\n",
       "  </tbody>\n",
       "</table>\n",
       "</div>"
      ],
      "text/plain": [
       "        loss  accuracy  val_loss  val_accuracy\n",
       "0   0.125165  0.961429  0.059786      0.981508\n",
       "1   0.047943  0.985306  0.069492      0.979127\n",
       "2   0.032479  0.989320  0.054074      0.983889\n",
       "3   0.025905  0.991054  0.053669      0.985000\n",
       "4   0.019676  0.993639  0.068478      0.980317\n",
       "5   0.018518  0.993775  0.048353      0.988413\n",
       "6   0.014501  0.995136  0.052945      0.985714\n",
       "7   0.014652  0.995238  0.049735      0.987143\n",
       "8   0.010239  0.996293  0.054940      0.984603\n",
       "9   0.011173  0.996088  0.054483      0.986905\n",
       "10  0.007645  0.997347  0.073422      0.983651\n",
       "11  0.009058  0.996939  0.063785      0.984603\n",
       "12  0.008032  0.997211  0.052539      0.987698\n",
       "13  0.007705  0.997143  0.052270      0.987698\n",
       "14  0.006404  0.997891  0.061767      0.984921\n",
       "15  0.006578  0.997483  0.053044      0.988254\n",
       "16  0.007151  0.997755  0.076842      0.984048\n",
       "17  0.006178  0.998129  0.074278      0.984603\n",
       "18  0.004362  0.998571  0.058356      0.988413\n",
       "19  0.005274  0.998231  0.065472      0.987302\n",
       "20  0.005623  0.997959  0.058530      0.988889\n",
       "21  0.005809  0.997823  0.059596      0.987540\n",
       "22  0.003319  0.998844  0.063544      0.987381\n",
       "23  0.004543  0.998231  0.055659      0.988571\n",
       "24  0.005394  0.998197  0.055826      0.989286\n",
       "25  0.002802  0.999116  0.058565      0.988651"
      ]
     },
     "execution_count": 43,
     "metadata": {},
     "output_type": "execute_result"
    }
   ],
   "source": [
    "history_df = pd.DataFrame(history.history)\n",
    "history_df"
   ]
  },
  {
   "cell_type": "code",
   "execution_count": 44,
   "metadata": {},
   "outputs": [
    {
     "name": "stdout",
     "output_type": "stream",
     "text": [
      "Minimum Validation Loss: 0.0484\n"
     ]
    },
    {
     "data": {
      "image/png": "[encoded data removed]",
      "text/plain": [
       "<Figure size 432x288 with 1 Axes>"
      ]
     },
     "metadata": {},
     "output_type": "display_data"
    }
   ],
   "source": [
    "history_df.loc[:, ['loss', 'val_loss']].plot()\n",
    "print((\"Minimum Validation Loss: {:0.4f}\").format(history_df['val_loss'].min()))"
   ]
  },
  {
   "cell_type": "code",
   "execution_count": 45,
   "metadata": {},
   "outputs": [
    {
     "name": "stdout",
     "output_type": "stream",
     "text": [
      "Maximum Validation accuracy: 0.9893\n"
     ]
    },
    {
     "data": {
      "image/png": "[encoded data removed]",
      "text/plain": [
       "<Figure size 432x288 with 1 Axes>"
      ]
     },
     "metadata": {},
     "output_type": "display_data"
    }
   ],
   "source": [
    "history_df.loc[:, ['accuracy', 'val_accuracy']].plot(title=\"Accuracy\");\n",
    "print((\"Maximum Validation accuracy: {:0.4f}\").format(history_df['val_accuracy'].max()))"
   ]
  }
 ],
 "metadata": {
  "kernelspec": {
   "display_name": "Python 3",
   "language": "python",
   "name": "python3"
  },
  "language_info": {
   "codemirror_mode": {
    "name": "ipython",
    "version": 3
   },
   "file_extension": ".py",
   "mimetype": "text/x-python",
   "name": "python",
   "nbconvert_exporter": "python",
   "pygments_lexer": "ipython3",
   "version": "3.7.9"
  }
 },
 "nbformat": 4,
 "nbformat_minor": 4
}
